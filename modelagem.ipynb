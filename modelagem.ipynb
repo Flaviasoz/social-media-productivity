{
  "nbformat": 4,
  "nbformat_minor": 0,
  "metadata": {
    "colab": {
      "provenance": [],
      "authorship_tag": "ABX9TyNV6fI1qx+XHI9JkuCbwsh1",
      "include_colab_link": true
    },
    "kernelspec": {
      "name": "python3",
      "display_name": "Python 3"
    },
    "language_info": {
      "name": "python"
    }
  },
  "cells": [
    {
      "cell_type": "markdown",
      "metadata": {
        "id": "view-in-github",
        "colab_type": "text"
      },
      "source": [
        "<a href=\"https://colab.research.google.com/github/Flaviasoz/social-media-productivity/blob/main/modelagem.ipynb\" target=\"_parent\"><img src=\"https://colab.research.google.com/assets/colab-badge.svg\" alt=\"Open In Colab\"/></a>"
      ]
    },
    {
      "cell_type": "markdown",
      "source": [
        "# Notebook 3: Modelagem e Validação"
      ],
      "metadata": {
        "id": "whtn1Y2xUWzb"
      }
    },
    {
      "cell_type": "markdown",
      "source": [
        "**Objetivo:** Construir e avaliar modelos preditivos  \n",
        "**Dataset:** processed_data.csv  \n",
        "**Autor:** Flávia Souza e Vinicius Loeblein  "
      ],
      "metadata": {
        "id": "WM-oZ2KpUbHT"
      }
    },
    {
      "cell_type": "markdown",
      "source": [
        "## 1. Configuração Inicial"
      ],
      "metadata": {
        "id": "1FOYffvmUciF"
      }
    },
    {
      "cell_type": "code",
      "execution_count": null,
      "metadata": {
        "colab": {
          "base_uri": "https://localhost:8080/"
        },
        "id": "BKUAdXiuUIu-",
        "outputId": "cb424bdd-45bc-40dc-a9c2-6b24b8287250"
      },
      "outputs": [
        {
          "output_type": "stream",
          "name": "stdout",
          "text": [
            "Requirement already satisfied: weasyprint in /usr/local/lib/python3.11/dist-packages (65.1)\n",
            "Requirement already satisfied: pydyf>=0.11.0 in /usr/local/lib/python3.11/dist-packages (from weasyprint) (0.11.0)\n",
            "Requirement already satisfied: cffi>=0.6 in /usr/local/lib/python3.11/dist-packages (from weasyprint) (1.17.1)\n",
            "Requirement already satisfied: tinyhtml5>=2.0.0b1 in /usr/local/lib/python3.11/dist-packages (from weasyprint) (2.0.0)\n",
            "Requirement already satisfied: tinycss2>=1.4.0 in /usr/local/lib/python3.11/dist-packages (from weasyprint) (1.4.0)\n",
            "Requirement already satisfied: cssselect2>=0.8.0 in /usr/local/lib/python3.11/dist-packages (from weasyprint) (0.8.0)\n",
            "Requirement already satisfied: Pyphen>=0.9.1 in /usr/local/lib/python3.11/dist-packages (from weasyprint) (0.17.2)\n",
            "Requirement already satisfied: Pillow>=9.1.0 in /usr/local/lib/python3.11/dist-packages (from weasyprint) (11.2.1)\n",
            "Requirement already satisfied: fonttools>=4.0.0 in /usr/local/lib/python3.11/dist-packages (from fonttools[woff]>=4.0.0->weasyprint) (4.58.4)\n",
            "Requirement already satisfied: pycparser in /usr/local/lib/python3.11/dist-packages (from cffi>=0.6->weasyprint) (2.22)\n",
            "Requirement already satisfied: webencodings in /usr/local/lib/python3.11/dist-packages (from cssselect2>=0.8.0->weasyprint) (0.5.1)\n",
            "Requirement already satisfied: brotli>=1.0.1 in /usr/local/lib/python3.11/dist-packages (from fonttools[woff]>=4.0.0->weasyprint) (1.1.0)\n",
            "Requirement already satisfied: zopfli>=0.1.4 in /usr/local/lib/python3.11/dist-packages (from fonttools[woff]>=4.0.0->weasyprint) (0.2.3.post1)\n"
          ]
        }
      ],
      "source": [
        "!pip install weasyprint\n",
        "\n",
        "import pandas as pd\n",
        "import numpy as np\n",
        "import matplotlib.pyplot as plt\n",
        "import seaborn as sns\n",
        "from sklearn.model_selection import train_test_split, cross_val_score\n",
        "from sklearn.preprocessing import StandardScaler\n",
        "from sklearn.metrics import mean_absolute_error, r2_score\n",
        "from sklearn.linear_model import LinearRegression\n",
        "from sklearn.ensemble import RandomForestRegressor\n",
        "from sklearn.svm import SVR\n",
        "import xgboost as xgb\n",
        "import warnings\n",
        "import os\n",
        "import requests\n",
        "from io import StringIO\n",
        "import matplotlib.ticker as mtick\n",
        "from weasyprint import HTML\n",
        "import datetime\n",
        "from google.colab import files\n",
        "\n",
        "\n",
        "warnings.filterwarnings('ignore')\n",
        "plt.style.use('seaborn-v0_8-whitegrid')\n",
        "%matplotlib inline\n",
        "os.makedirs(\"imgs_temp\", exist_ok=True)"
      ]
    },
    {
      "cell_type": "markdown",
      "source": [
        "## 2. Carregamento dos Dados"
      ],
      "metadata": {
        "id": "3l9cregLU89v"
      }
    },
    {
      "cell_type": "code",
      "source": [
        "# Cria diretórios necessários\n",
        "os.makedirs(\"../data\", exist_ok=True)\n",
        "os.makedirs(\"../models\", exist_ok=True)\n",
        "os.makedirs(\"../reports/figures\", exist_ok=True)\n",
        "\n",
        "def load_dataset():\n",
        "    \"\"\"Carrega o dataset com fallback para múltiplas fontes\"\"\"\n",
        "    # 1. Tentativa: GitHub\n",
        "    github_url = \"https://raw.githubusercontent.com/Flaviasoz/social-media-productivity/main/data/processed_data.csv\"\n",
        "    try:\n",
        "        response = requests.get(github_url)\n",
        "        response.raise_for_status()\n",
        "        df = pd.read_csv(StringIO(response.text))\n",
        "        print(\"✅ Dataset carregado do GitHub com sucesso!\")\n",
        "\n",
        "        # Salva localmente para próximas execuções\n",
        "        df.to_csv('../data/processed_data.csv', index=False)\n",
        "        return df\n",
        "    except Exception as e:\n",
        "        print(f\"⚠️ Não foi possível carregar do GitHub: {str(e)}\")\n",
        "\n",
        "    # 2. Tentativa: Arquivos locais\n",
        "    local_paths = [\n",
        "        '../data/processed_data.csv',\n",
        "        'social-media-productivity/data/processed_data.csv',\n",
        "        'processed_data.csv'\n",
        "    ]\n",
        "\n",
        "    for path in local_paths:\n",
        "        try:\n",
        "            if os.path.exists(path):\n",
        "                df = pd.read_csv(path)\n",
        "                print(f\"✅ Dataset carregado localmente de: {path}\")\n",
        "                return df\n",
        "        except Exception as e:\n",
        "            print(f\"⚠️ Erro ao carregar {path}: {str(e)}\")\n",
        "\n",
        "    # 3. Tentativa: Upload manual\n",
        "    print(\"\\n🔍 Arquivo não encontrado nos locais padrão. Opções disponíveis:\")\n",
        "    print(\"1. Execute o notebook 1_data_cleaning.ipynb para gerar os dados\")\n",
        "    print(\"2. Coloque o arquivo processed_data.csv em uma das pastas:\")\n",
        "    print(\"   - ../data/\")\n",
        "    print(\"   - social-media-productivity/data/\")\n",
        "    print(\"   - Diretório raiz do projeto\")\n",
        "    print(\"3. Descomente a linha abaixo para upload manual\")\n",
        "\n",
        "    df = upload_manually()\n",
        "    if df is not None:\n",
        "        return df\n",
        "\n",
        "    raise FileNotFoundError(\"Não foi possível carregar o dataset. Verifique as mensagens acima.\")\n",
        "\n",
        "def upload_manually():\n",
        "    \"\"\"Função para upload manual do arquivo\"\"\"\n",
        "    try:\n",
        "        from google.colab import files\n",
        "        print(\"\\n📤 Executando no Google Colab - faça o upload do arquivo:\")\n",
        "        uploaded = files.upload()\n",
        "        for fn in uploaded.keys():\n",
        "            df = pd.read_csv(fn)\n",
        "            print(f\"✅ Arquivo {fn} carregado com sucesso!\")\n",
        "            return df\n",
        "    except:\n",
        "        try:\n",
        "            from tkinter import Tk, filedialog\n",
        "            print(\"\\n📂 Selecione o arquivo manualmente:\")\n",
        "            root = Tk()\n",
        "            root.withdraw()\n",
        "            file_path = filedialog.askopenfilename(filetypes=[(\"CSV files\", \"*.csv\")])\n",
        "            if file_path:\n",
        "                df = pd.read_csv(file_path)\n",
        "                print(f\"✅ Arquivo {file_path} carregado com sucesso!\")\n",
        "                return df\n",
        "        except Exception as e:\n",
        "            print(f\"❌ Erro ao carregar arquivo: {str(e)}\")\n",
        "    return None\n",
        "\n",
        "# Carrega o dataset\n",
        "print(\"\\n🔍 Buscando dataset...\")\n",
        "df = load_dataset()\n",
        "\n",
        "# Exibe informações básicas\n",
        "print(f\"\\n📊 Dataset carregado com {df.shape[0]} linhas e {df.shape[1]} colunas\")\n",
        "print(\"\\n📋 Primeiras linhas:\")\n",
        "display(df.head(3))\n",
        "\n",
        "# Verifica colunas disponíveis\n",
        "print(\"\\n🗂 Colunas disponíveis:\")\n",
        "print(df.columns.tolist())"
      ],
      "metadata": {
        "colab": {
          "base_uri": "https://localhost:8080/",
          "height": 337
        },
        "id": "mF7IOErsVAuw",
        "outputId": "cf72c27f-713b-4714-ad42-a33002f33172"
      },
      "execution_count": null,
      "outputs": [
        {
          "output_type": "stream",
          "name": "stdout",
          "text": [
            "\n",
            "🔍 Buscando dataset...\n",
            "✅ Dataset carregado do GitHub com sucesso!\n",
            "\n",
            "📊 Dataset carregado com 29860 linhas e 20 colunas\n",
            "\n",
            "📋 Primeiras linhas:\n"
          ]
        },
        {
          "output_type": "display_data",
          "data": {
            "text/plain": [
              "   age gender    job_type  daily_social_media_time social_platform_preference  \\\n",
              "0   56   Male  Unemployed                 4.180940                   Facebook   \n",
              "1   46   Male      Health                 3.249603                    Twitter   \n",
              "2   32   Male     Finance                 3.113418                    Twitter   \n",
              "\n",
              "   number_of_notifications  work_hours_per_day  perceived_productivity_score  \\\n",
              "0                       61            6.753558                      8.040464   \n",
              "1                       59            9.169296                      5.063368   \n",
              "2                       57            7.910952                      3.861762   \n",
              "\n",
              "   actual_productivity_score  stress_level  sleep_hours  \\\n",
              "0                   7.291555           4.0     5.116546   \n",
              "1                   5.165093           7.0     5.103897   \n",
              "2                   3.474053           4.0     8.583222   \n",
              "\n",
              "   screen_time_before_sleep  breaks_during_work  uses_focus_apps  \\\n",
              "0                  0.419102                   8            False   \n",
              "1                  0.671519                   7             True   \n",
              "2                  0.624378                   0             True   \n",
              "\n",
              "   has_digital_wellbeing_enabled  coffee_consumption_per_day  \\\n",
              "0                          False                           4   \n",
              "1                           True                           2   \n",
              "2                          False                           3   \n",
              "\n",
              "   days_feeling_burnout_per_month  weekly_offline_hours  \\\n",
              "0                              11             21.927072   \n",
              "1                              25              0.000000   \n",
              "2                              17             10.322044   \n",
              "\n",
              "   job_satisfaction_score uso_categoria  \n",
              "0                6.336688          alto  \n",
              "1                3.412427      moderado  \n",
              "2                2.474944      moderado  "
            ],
            "text/html": [
              "\n",
              "  <div id=\"df-f52f66f7-3d51-4cbb-b3fd-e7ea9c09b67e\" class=\"colab-df-container\">\n",
              "    <div>\n",
              "<style scoped>\n",
              "    .dataframe tbody tr th:only-of-type {\n",
              "        vertical-align: middle;\n",
              "    }\n",
              "\n",
              "    .dataframe tbody tr th {\n",
              "        vertical-align: top;\n",
              "    }\n",
              "\n",
              "    .dataframe thead th {\n",
              "        text-align: right;\n",
              "    }\n",
              "</style>\n",
              "<table border=\"1\" class=\"dataframe\">\n",
              "  <thead>\n",
              "    <tr style=\"text-align: right;\">\n",
              "      <th></th>\n",
              "      <th>age</th>\n",
              "      <th>gender</th>\n",
              "      <th>job_type</th>\n",
              "      <th>daily_social_media_time</th>\n",
              "      <th>social_platform_preference</th>\n",
              "      <th>number_of_notifications</th>\n",
              "      <th>work_hours_per_day</th>\n",
              "      <th>perceived_productivity_score</th>\n",
              "      <th>actual_productivity_score</th>\n",
              "      <th>stress_level</th>\n",
              "      <th>sleep_hours</th>\n",
              "      <th>screen_time_before_sleep</th>\n",
              "      <th>breaks_during_work</th>\n",
              "      <th>uses_focus_apps</th>\n",
              "      <th>has_digital_wellbeing_enabled</th>\n",
              "      <th>coffee_consumption_per_day</th>\n",
              "      <th>days_feeling_burnout_per_month</th>\n",
              "      <th>weekly_offline_hours</th>\n",
              "      <th>job_satisfaction_score</th>\n",
              "      <th>uso_categoria</th>\n",
              "    </tr>\n",
              "  </thead>\n",
              "  <tbody>\n",
              "    <tr>\n",
              "      <th>0</th>\n",
              "      <td>56</td>\n",
              "      <td>Male</td>\n",
              "      <td>Unemployed</td>\n",
              "      <td>4.180940</td>\n",
              "      <td>Facebook</td>\n",
              "      <td>61</td>\n",
              "      <td>6.753558</td>\n",
              "      <td>8.040464</td>\n",
              "      <td>7.291555</td>\n",
              "      <td>4.0</td>\n",
              "      <td>5.116546</td>\n",
              "      <td>0.419102</td>\n",
              "      <td>8</td>\n",
              "      <td>False</td>\n",
              "      <td>False</td>\n",
              "      <td>4</td>\n",
              "      <td>11</td>\n",
              "      <td>21.927072</td>\n",
              "      <td>6.336688</td>\n",
              "      <td>alto</td>\n",
              "    </tr>\n",
              "    <tr>\n",
              "      <th>1</th>\n",
              "      <td>46</td>\n",
              "      <td>Male</td>\n",
              "      <td>Health</td>\n",
              "      <td>3.249603</td>\n",
              "      <td>Twitter</td>\n",
              "      <td>59</td>\n",
              "      <td>9.169296</td>\n",
              "      <td>5.063368</td>\n",
              "      <td>5.165093</td>\n",
              "      <td>7.0</td>\n",
              "      <td>5.103897</td>\n",
              "      <td>0.671519</td>\n",
              "      <td>7</td>\n",
              "      <td>True</td>\n",
              "      <td>True</td>\n",
              "      <td>2</td>\n",
              "      <td>25</td>\n",
              "      <td>0.000000</td>\n",
              "      <td>3.412427</td>\n",
              "      <td>moderado</td>\n",
              "    </tr>\n",
              "    <tr>\n",
              "      <th>2</th>\n",
              "      <td>32</td>\n",
              "      <td>Male</td>\n",
              "      <td>Finance</td>\n",
              "      <td>3.113418</td>\n",
              "      <td>Twitter</td>\n",
              "      <td>57</td>\n",
              "      <td>7.910952</td>\n",
              "      <td>3.861762</td>\n",
              "      <td>3.474053</td>\n",
              "      <td>4.0</td>\n",
              "      <td>8.583222</td>\n",
              "      <td>0.624378</td>\n",
              "      <td>0</td>\n",
              "      <td>True</td>\n",
              "      <td>False</td>\n",
              "      <td>3</td>\n",
              "      <td>17</td>\n",
              "      <td>10.322044</td>\n",
              "      <td>2.474944</td>\n",
              "      <td>moderado</td>\n",
              "    </tr>\n",
              "  </tbody>\n",
              "</table>\n",
              "</div>\n",
              "    <div class=\"colab-df-buttons\">\n",
              "\n",
              "  <div class=\"colab-df-container\">\n",
              "    <button class=\"colab-df-convert\" onclick=\"convertToInteractive('df-f52f66f7-3d51-4cbb-b3fd-e7ea9c09b67e')\"\n",
              "            title=\"Convert this dataframe to an interactive table.\"\n",
              "            style=\"display:none;\">\n",
              "\n",
              "  <svg xmlns=\"http://www.w3.org/2000/svg\" height=\"24px\" viewBox=\"0 -960 960 960\">\n",
              "    <path d=\"M120-120v-720h720v720H120Zm60-500h600v-160H180v160Zm220 220h160v-160H400v160Zm0 220h160v-160H400v160ZM180-400h160v-160H180v160Zm440 0h160v-160H620v160ZM180-180h160v-160H180v160Zm440 0h160v-160H620v160Z\"/>\n",
              "  </svg>\n",
              "    </button>\n",
              "\n",
              "  <style>\n",
              "    .colab-df-container {\n",
              "      display:flex;\n",
              "      gap: 12px;\n",
              "    }\n",
              "\n",
              "    .colab-df-convert {\n",
              "      background-color: #E8F0FE;\n",
              "      border: none;\n",
              "      border-radius: 50%;\n",
              "      cursor: pointer;\n",
              "      display: none;\n",
              "      fill: #1967D2;\n",
              "      height: 32px;\n",
              "      padding: 0 0 0 0;\n",
              "      width: 32px;\n",
              "    }\n",
              "\n",
              "    .colab-df-convert:hover {\n",
              "      background-color: #E2EBFA;\n",
              "      box-shadow: 0px 1px 2px rgba(60, 64, 67, 0.3), 0px 1px 3px 1px rgba(60, 64, 67, 0.15);\n",
              "      fill: #174EA6;\n",
              "    }\n",
              "\n",
              "    .colab-df-buttons div {\n",
              "      margin-bottom: 4px;\n",
              "    }\n",
              "\n",
              "    [theme=dark] .colab-df-convert {\n",
              "      background-color: #3B4455;\n",
              "      fill: #D2E3FC;\n",
              "    }\n",
              "\n",
              "    [theme=dark] .colab-df-convert:hover {\n",
              "      background-color: #434B5C;\n",
              "      box-shadow: 0px 1px 3px 1px rgba(0, 0, 0, 0.15);\n",
              "      filter: drop-shadow(0px 1px 2px rgba(0, 0, 0, 0.3));\n",
              "      fill: #FFFFFF;\n",
              "    }\n",
              "  </style>\n",
              "\n",
              "    <script>\n",
              "      const buttonEl =\n",
              "        document.querySelector('#df-f52f66f7-3d51-4cbb-b3fd-e7ea9c09b67e button.colab-df-convert');\n",
              "      buttonEl.style.display =\n",
              "        google.colab.kernel.accessAllowed ? 'block' : 'none';\n",
              "\n",
              "      async function convertToInteractive(key) {\n",
              "        const element = document.querySelector('#df-f52f66f7-3d51-4cbb-b3fd-e7ea9c09b67e');\n",
              "        const dataTable =\n",
              "          await google.colab.kernel.invokeFunction('convertToInteractive',\n",
              "                                                    [key], {});\n",
              "        if (!dataTable) return;\n",
              "\n",
              "        const docLinkHtml = 'Like what you see? Visit the ' +\n",
              "          '<a target=\"_blank\" href=https://colab.research.google.com/notebooks/data_table.ipynb>data table notebook</a>'\n",
              "          + ' to learn more about interactive tables.';\n",
              "        element.innerHTML = '';\n",
              "        dataTable['output_type'] = 'display_data';\n",
              "        await google.colab.output.renderOutput(dataTable, element);\n",
              "        const docLink = document.createElement('div');\n",
              "        docLink.innerHTML = docLinkHtml;\n",
              "        element.appendChild(docLink);\n",
              "      }\n",
              "    </script>\n",
              "  </div>\n",
              "\n",
              "\n",
              "    <div id=\"df-d94fa398-f264-4d0f-9ad7-eda7e018234c\">\n",
              "      <button class=\"colab-df-quickchart\" onclick=\"quickchart('df-d94fa398-f264-4d0f-9ad7-eda7e018234c')\"\n",
              "                title=\"Suggest charts\"\n",
              "                style=\"display:none;\">\n",
              "\n",
              "<svg xmlns=\"http://www.w3.org/2000/svg\" height=\"24px\"viewBox=\"0 0 24 24\"\n",
              "     width=\"24px\">\n",
              "    <g>\n",
              "        <path d=\"M19 3H5c-1.1 0-2 .9-2 2v14c0 1.1.9 2 2 2h14c1.1 0 2-.9 2-2V5c0-1.1-.9-2-2-2zM9 17H7v-7h2v7zm4 0h-2V7h2v10zm4 0h-2v-4h2v4z\"/>\n",
              "    </g>\n",
              "</svg>\n",
              "      </button>\n",
              "\n",
              "<style>\n",
              "  .colab-df-quickchart {\n",
              "      --bg-color: #E8F0FE;\n",
              "      --fill-color: #1967D2;\n",
              "      --hover-bg-color: #E2EBFA;\n",
              "      --hover-fill-color: #174EA6;\n",
              "      --disabled-fill-color: #AAA;\n",
              "      --disabled-bg-color: #DDD;\n",
              "  }\n",
              "\n",
              "  [theme=dark] .colab-df-quickchart {\n",
              "      --bg-color: #3B4455;\n",
              "      --fill-color: #D2E3FC;\n",
              "      --hover-bg-color: #434B5C;\n",
              "      --hover-fill-color: #FFFFFF;\n",
              "      --disabled-bg-color: #3B4455;\n",
              "      --disabled-fill-color: #666;\n",
              "  }\n",
              "\n",
              "  .colab-df-quickchart {\n",
              "    background-color: var(--bg-color);\n",
              "    border: none;\n",
              "    border-radius: 50%;\n",
              "    cursor: pointer;\n",
              "    display: none;\n",
              "    fill: var(--fill-color);\n",
              "    height: 32px;\n",
              "    padding: 0;\n",
              "    width: 32px;\n",
              "  }\n",
              "\n",
              "  .colab-df-quickchart:hover {\n",
              "    background-color: var(--hover-bg-color);\n",
              "    box-shadow: 0 1px 2px rgba(60, 64, 67, 0.3), 0 1px 3px 1px rgba(60, 64, 67, 0.15);\n",
              "    fill: var(--button-hover-fill-color);\n",
              "  }\n",
              "\n",
              "  .colab-df-quickchart-complete:disabled,\n",
              "  .colab-df-quickchart-complete:disabled:hover {\n",
              "    background-color: var(--disabled-bg-color);\n",
              "    fill: var(--disabled-fill-color);\n",
              "    box-shadow: none;\n",
              "  }\n",
              "\n",
              "  .colab-df-spinner {\n",
              "    border: 2px solid var(--fill-color);\n",
              "    border-color: transparent;\n",
              "    border-bottom-color: var(--fill-color);\n",
              "    animation:\n",
              "      spin 1s steps(1) infinite;\n",
              "  }\n",
              "\n",
              "  @keyframes spin {\n",
              "    0% {\n",
              "      border-color: transparent;\n",
              "      border-bottom-color: var(--fill-color);\n",
              "      border-left-color: var(--fill-color);\n",
              "    }\n",
              "    20% {\n",
              "      border-color: transparent;\n",
              "      border-left-color: var(--fill-color);\n",
              "      border-top-color: var(--fill-color);\n",
              "    }\n",
              "    30% {\n",
              "      border-color: transparent;\n",
              "      border-left-color: var(--fill-color);\n",
              "      border-top-color: var(--fill-color);\n",
              "      border-right-color: var(--fill-color);\n",
              "    }\n",
              "    40% {\n",
              "      border-color: transparent;\n",
              "      border-right-color: var(--fill-color);\n",
              "      border-top-color: var(--fill-color);\n",
              "    }\n",
              "    60% {\n",
              "      border-color: transparent;\n",
              "      border-right-color: var(--fill-color);\n",
              "    }\n",
              "    80% {\n",
              "      border-color: transparent;\n",
              "      border-right-color: var(--fill-color);\n",
              "      border-bottom-color: var(--fill-color);\n",
              "    }\n",
              "    90% {\n",
              "      border-color: transparent;\n",
              "      border-bottom-color: var(--fill-color);\n",
              "    }\n",
              "  }\n",
              "</style>\n",
              "\n",
              "      <script>\n",
              "        async function quickchart(key) {\n",
              "          const quickchartButtonEl =\n",
              "            document.querySelector('#' + key + ' button');\n",
              "          quickchartButtonEl.disabled = true;  // To prevent multiple clicks.\n",
              "          quickchartButtonEl.classList.add('colab-df-spinner');\n",
              "          try {\n",
              "            const charts = await google.colab.kernel.invokeFunction(\n",
              "                'suggestCharts', [key], {});\n",
              "          } catch (error) {\n",
              "            console.error('Error during call to suggestCharts:', error);\n",
              "          }\n",
              "          quickchartButtonEl.classList.remove('colab-df-spinner');\n",
              "          quickchartButtonEl.classList.add('colab-df-quickchart-complete');\n",
              "        }\n",
              "        (() => {\n",
              "          let quickchartButtonEl =\n",
              "            document.querySelector('#df-d94fa398-f264-4d0f-9ad7-eda7e018234c button');\n",
              "          quickchartButtonEl.style.display =\n",
              "            google.colab.kernel.accessAllowed ? 'block' : 'none';\n",
              "        })();\n",
              "      </script>\n",
              "    </div>\n",
              "\n",
              "    </div>\n",
              "  </div>\n"
            ],
            "application/vnd.google.colaboratory.intrinsic+json": {
              "type": "dataframe",
              "summary": "{\n  \"name\": \"print(df\",\n  \"rows\": 3,\n  \"fields\": [\n    {\n      \"column\": \"age\",\n      \"properties\": {\n        \"dtype\": \"number\",\n        \"std\": 12,\n        \"min\": 32,\n        \"max\": 56,\n        \"num_unique_values\": 3,\n        \"samples\": [\n          56,\n          46,\n          32\n        ],\n        \"semantic_type\": \"\",\n        \"description\": \"\"\n      }\n    },\n    {\n      \"column\": \"gender\",\n      \"properties\": {\n        \"dtype\": \"category\",\n        \"num_unique_values\": 1,\n        \"samples\": [\n          \"Male\"\n        ],\n        \"semantic_type\": \"\",\n        \"description\": \"\"\n      }\n    },\n    {\n      \"column\": \"job_type\",\n      \"properties\": {\n        \"dtype\": \"string\",\n        \"num_unique_values\": 3,\n        \"samples\": [\n          \"Unemployed\"\n        ],\n        \"semantic_type\": \"\",\n        \"description\": \"\"\n      }\n    },\n    {\n      \"column\": \"daily_social_media_time\",\n      \"properties\": {\n        \"dtype\": \"number\",\n        \"std\": 0.5810245484167732,\n        \"min\": 3.113418084978472,\n        \"max\": 4.180939775840407,\n        \"num_unique_values\": 3,\n        \"samples\": [\n          4.180939775840407\n        ],\n        \"semantic_type\": \"\",\n        \"description\": \"\"\n      }\n    },\n    {\n      \"column\": \"social_platform_preference\",\n      \"properties\": {\n        \"dtype\": \"string\",\n        \"num_unique_values\": 2,\n        \"samples\": [\n          \"Twitter\"\n        ],\n        \"semantic_type\": \"\",\n        \"description\": \"\"\n      }\n    },\n    {\n      \"column\": \"number_of_notifications\",\n      \"properties\": {\n        \"dtype\": \"number\",\n        \"std\": 2,\n        \"min\": 57,\n        \"max\": 61,\n        \"num_unique_values\": 3,\n        \"samples\": [\n          61\n        ],\n        \"semantic_type\": \"\",\n        \"description\": \"\"\n      }\n    },\n    {\n      \"column\": \"work_hours_per_day\",\n      \"properties\": {\n        \"dtype\": \"number\",\n        \"std\": 1.2082203546333823,\n        \"min\": 6.75355840556201,\n        \"max\": 9.16929611963351,\n        \"num_unique_values\": 3,\n        \"samples\": [\n          6.75355840556201\n        ],\n        \"semantic_type\": \"\",\n        \"description\": \"\"\n      }\n    },\n    {\n      \"column\": \"perceived_productivity_score\",\n      \"properties\": {\n        \"dtype\": \"number\",\n        \"std\": 2.151298127064985,\n        \"min\": 3.861762461136279,\n        \"max\": 8.04046395460586,\n        \"num_unique_values\": 3,\n        \"samples\": [\n          8.04046395460586\n        ],\n        \"semantic_type\": \"\",\n        \"description\": \"\"\n      }\n    },\n    {\n      \"column\": \"actual_productivity_score\",\n      \"properties\": {\n        \"dtype\": \"number\",\n        \"std\": 1.9128852474178102,\n        \"min\": 3.474053165692065,\n        \"max\": 7.291555269465855,\n        \"num_unique_values\": 3,\n        \"samples\": [\n          7.291555269465855\n        ],\n        \"semantic_type\": \"\",\n        \"description\": \"\"\n      }\n    },\n    {\n      \"column\": \"stress_level\",\n      \"properties\": {\n        \"dtype\": \"number\",\n        \"std\": 1.7320508075688772,\n        \"min\": 4.0,\n        \"max\": 7.0,\n        \"num_unique_values\": 2,\n        \"samples\": [\n          7.0\n        ],\n        \"semantic_type\": \"\",\n        \"description\": \"\"\n      }\n    },\n    {\n      \"column\": \"sleep_hours\",\n      \"properties\": {\n        \"dtype\": \"number\",\n        \"std\": 2.0051478546868533,\n        \"min\": 5.103896756553941,\n        \"max\": 8.583221815294962,\n        \"num_unique_values\": 3,\n        \"samples\": [\n          5.116545502198779\n        ],\n        \"semantic_type\": \"\",\n        \"description\": \"\"\n      }\n    },\n    {\n      \"column\": \"screen_time_before_sleep\",\n      \"properties\": {\n        \"dtype\": \"number\",\n        \"std\": 0.13421031204365477,\n        \"min\": 0.4191024304440629,\n        \"max\": 0.6715191847959994,\n        \"num_unique_values\": 3,\n        \"samples\": [\n          0.4191024304440629\n        ],\n        \"semantic_type\": \"\",\n        \"description\": \"\"\n      }\n    },\n    {\n      \"column\": \"breaks_during_work\",\n      \"properties\": {\n        \"dtype\": \"number\",\n        \"std\": 4,\n        \"min\": 0,\n        \"max\": 8,\n        \"num_unique_values\": 3,\n        \"samples\": [\n          8\n        ],\n        \"semantic_type\": \"\",\n        \"description\": \"\"\n      }\n    },\n    {\n      \"column\": \"uses_focus_apps\",\n      \"properties\": {\n        \"dtype\": \"boolean\",\n        \"num_unique_values\": 2,\n        \"samples\": [\n          true\n        ],\n        \"semantic_type\": \"\",\n        \"description\": \"\"\n      }\n    },\n    {\n      \"column\": \"has_digital_wellbeing_enabled\",\n      \"properties\": {\n        \"dtype\": \"boolean\",\n        \"num_unique_values\": 2,\n        \"samples\": [\n          true\n        ],\n        \"semantic_type\": \"\",\n        \"description\": \"\"\n      }\n    },\n    {\n      \"column\": \"coffee_consumption_per_day\",\n      \"properties\": {\n        \"dtype\": \"number\",\n        \"std\": 1,\n        \"min\": 2,\n        \"max\": 4,\n        \"num_unique_values\": 3,\n        \"samples\": [\n          4\n        ],\n        \"semantic_type\": \"\",\n        \"description\": \"\"\n      }\n    },\n    {\n      \"column\": \"days_feeling_burnout_per_month\",\n      \"properties\": {\n        \"dtype\": \"number\",\n        \"std\": 7,\n        \"min\": 11,\n        \"max\": 25,\n        \"num_unique_values\": 3,\n        \"samples\": [\n          11\n        ],\n        \"semantic_type\": \"\",\n        \"description\": \"\"\n      }\n    },\n    {\n      \"column\": \"weekly_offline_hours\",\n      \"properties\": {\n        \"dtype\": \"number\",\n        \"std\": 10.96979020107103,\n        \"min\": 0.0,\n        \"max\": 21.92707243727313,\n        \"num_unique_values\": 3,\n        \"samples\": [\n          21.92707243727313\n        ],\n        \"semantic_type\": \"\",\n        \"description\": \"\"\n      }\n    },\n    {\n      \"column\": \"job_satisfaction_score\",\n      \"properties\": {\n        \"dtype\": \"number\",\n        \"std\": 2.0142513054542355,\n        \"min\": 2.474943628456001,\n        \"max\": 6.336688286435082,\n        \"num_unique_values\": 3,\n        \"samples\": [\n          6.336688286435082\n        ],\n        \"semantic_type\": \"\",\n        \"description\": \"\"\n      }\n    },\n    {\n      \"column\": \"uso_categoria\",\n      \"properties\": {\n        \"dtype\": \"string\",\n        \"num_unique_values\": 2,\n        \"samples\": [\n          \"moderado\"\n        ],\n        \"semantic_type\": \"\",\n        \"description\": \"\"\n      }\n    }\n  ]\n}"
            }
          },
          "metadata": {}
        },
        {
          "output_type": "stream",
          "name": "stdout",
          "text": [
            "\n",
            "🗂 Colunas disponíveis:\n",
            "['age', 'gender', 'job_type', 'daily_social_media_time', 'social_platform_preference', 'number_of_notifications', 'work_hours_per_day', 'perceived_productivity_score', 'actual_productivity_score', 'stress_level', 'sleep_hours', 'screen_time_before_sleep', 'breaks_during_work', 'uses_focus_apps', 'has_digital_wellbeing_enabled', 'coffee_consumption_per_day', 'days_feeling_burnout_per_month', 'weekly_offline_hours', 'job_satisfaction_score', 'uso_categoria']\n"
          ]
        }
      ]
    },
    {
      "cell_type": "markdown",
      "source": [
        "## 3. Pré-processamento Final"
      ],
      "metadata": {
        "id": "jQ_9AG32VXkY"
      }
    },
    {
      "cell_type": "code",
      "source": [
        "# Features relevantes com base na correlação\n",
        "features = ['perceived_productivity_score', 'job_satisfaction_score','age']\n",
        "\n",
        "# Seleção das features e da variável alvo\n",
        "X = df[features].copy()\n",
        "y = df['actual_productivity_score']\n",
        "\n",
        "# Tratamento de valores faltantes (se houver)\n",
        "X.fillna(X.mean(), inplace=True)\n",
        "\n",
        "# Divisão treino-teste\n",
        "X_train, X_test, y_train, y_test = train_test_split(\n",
        "    X, y.loc[X.index], test_size=0.2, random_state=42\n",
        ")\n",
        "\n",
        "# Normalização\n",
        "scaler = StandardScaler()\n",
        "X_train_scaled = scaler.fit_transform(X_train)\n",
        "X_test_scaled = scaler.transform(X_test)"
      ],
      "metadata": {
        "id": "c5IFPb5kVaRn"
      },
      "execution_count": 157,
      "outputs": []
    },
    {
      "cell_type": "markdown",
      "source": [
        "## 4. Modelagem"
      ],
      "metadata": {
        "id": "0kQ55dCcW216"
      }
    },
    {
      "cell_type": "markdown",
      "source": [
        "### 4.1 Modelo Baseline (Média)"
      ],
      "metadata": {
        "id": "fV-q5PUZXbVJ"
      }
    },
    {
      "cell_type": "code",
      "source": [
        "# Previsão baseline: sempre a média do y_train\n",
        "baseline_value = y_train.mean()\n",
        "baseline_pred = np.full(shape=len(y_test), fill_value=baseline_value)\n",
        "\n",
        "# Avaliação do baseline\n",
        "mae_baseline = mean_absolute_error(y_test, baseline_pred)\n",
        "r2_baseline = r2_score(y_test, baseline_pred)\n",
        "\n",
        "print(\"Modelo Baseline (média):\")\n",
        "print(f\"MAE Baseline: {mae_baseline:.2f}\")\n",
        "print(f\"R² Baseline: {r2_baseline:.2f}\")"
      ],
      "metadata": {
        "colab": {
          "base_uri": "https://localhost:8080/"
        },
        "id": "AfEGUr4XXcuw",
        "outputId": "9d27bc8e-20b3-4c91-e0ec-2f79ab90357f"
      },
      "execution_count": 177,
      "outputs": [
        {
          "output_type": "stream",
          "name": "stdout",
          "text": [
            "Modelo Baseline (média):\n",
            "MAE Baseline: 1.49\n",
            "R² Baseline: -0.00\n"
          ]
        }
      ]
    },
    {
      "cell_type": "markdown",
      "source": [
        "### 4.2 Regressão Linear"
      ],
      "metadata": {
        "id": "9ALPV510Xlv8"
      }
    },
    {
      "cell_type": "code",
      "source": [
        "lr = LinearRegression()\n",
        "lr.fit(X_train_scaled, y_train)\n",
        "lr_pred = lr.predict(X_test_scaled)\n",
        "\n",
        "mae_lr = mean_absolute_error(y_test, lr_pred)\n",
        "r2_lr = r2_score(y_test, lr_pred)\n",
        "\n",
        "print(\"Regressão Linear:\")\n",
        "print(f\"MAE Regressão Linear: {mae_lr:.2f}\")\n",
        "print(f\"R² Regressão Linear: {r2_lr:.2f}\")"
      ],
      "metadata": {
        "colab": {
          "base_uri": "https://localhost:8080/"
        },
        "id": "7kzbf7xFXotv",
        "outputId": "3b50868b-e692-4784-a594-60278ce5e220"
      },
      "execution_count": 178,
      "outputs": [
        {
          "output_type": "stream",
          "name": "stdout",
          "text": [
            "Regressão Linear:\n",
            "MAE Regressão Linear: 0.82\n",
            "R² Regressão Linear: 0.66\n"
          ]
        }
      ]
    },
    {
      "cell_type": "markdown",
      "source": [
        "### 4.3 Random Forest"
      ],
      "metadata": {
        "id": "E03a0-ymX9F3"
      }
    },
    {
      "cell_type": "code",
      "source": [
        "rf = RandomForestRegressor(n_estimators=100, max_depth=5, random_state=42)\n",
        "rf.fit(X_train_scaled, y_train)\n",
        "rf_pred = rf.predict(X_test_scaled)\n",
        "\n",
        "mae_rf = mean_absolute_error(y_test, rf_pred)\n",
        "r2_rf = r2_score(y_test, rf_pred)\n",
        "\n",
        "print(\"Random Forest:\")\n",
        "print(f\"MAE Random Forest: {mae_rf:.2f}\")\n",
        "print(f\"R² Random Forest: {r2_rf:.2f}\")"
      ],
      "metadata": {
        "colab": {
          "base_uri": "https://localhost:8080/"
        },
        "id": "xj9-bOMEX-Bd",
        "outputId": "25689568-19aa-4bc9-ad0d-3f5c49ee44d0"
      },
      "execution_count": 179,
      "outputs": [
        {
          "output_type": "stream",
          "name": "stdout",
          "text": [
            "Random Forest:\n",
            "MAE Random Forest: 0.82\n",
            "R² Random Forest: 0.66\n"
          ]
        }
      ]
    },
    {
      "cell_type": "markdown",
      "source": [
        "### 4.4 XGBoost"
      ],
      "metadata": {
        "id": "H017nhHXYGPE"
      }
    },
    {
      "cell_type": "code",
      "source": [
        "xgb_model = xgb.XGBRegressor(objective='reg:squarederror', n_estimators=100, learning_rate=0.1)\n",
        "xgb_model.fit(X_train_scaled, y_train)\n",
        "xgb_pred = xgb_model.predict(X_test_scaled)\n",
        "\n",
        "mae_xgb = mean_absolute_error(y_test, xgb_pred)\n",
        "r2_xgb = r2_score(y_test, xgb_pred)\n",
        "\n",
        "print(\"XGBoost:\")\n",
        "print(f\"MAE XGBoost: {mae_xgb:.2f}\")\n",
        "print(f\"R² XGBoost: {r2_xgb:.2f}\")"
      ],
      "metadata": {
        "colab": {
          "base_uri": "https://localhost:8080/"
        },
        "id": "5Zlad_7ZYF4w",
        "outputId": "f56d3290-ae0d-4232-8802-19996e8cdcdc"
      },
      "execution_count": 175,
      "outputs": [
        {
          "output_type": "stream",
          "name": "stdout",
          "text": [
            "XGBoost:\n",
            "MAE XGBoost: 0.83\n",
            "R² XGBoost: 0.66\n"
          ]
        }
      ]
    },
    {
      "cell_type": "markdown",
      "source": [
        "## 5. Comparação de Modelos"
      ],
      "metadata": {
        "id": "WtvS9apFYLxx"
      }
    },
    {
      "cell_type": "code",
      "source": [
        "results = pd.DataFrame({\n",
        "    'Modelo': ['Baseline (Média)', 'Regressão Linear', 'Random Forest', 'XGBoost'],\n",
        "    'MAE': [mae_baseline, mae_lr, mae_rf, mae_xgb],\n",
        "    'R²': [r2_baseline, r2_lr, r2_rf, r2_xgb]\n",
        "})\n",
        "results_sorted = results.sort_values(by='MAE').reset_index(drop=True)\n",
        "\n",
        "print(\"Comparação de Modelos (ordenado por MAE):\")\n",
        "display(results_sorted.style.background_gradient(cmap='viridis'))"
      ],
      "metadata": {
        "colab": {
          "base_uri": "https://localhost:8080/",
          "height": 192
        },
        "id": "kLZ14BlHYOG3",
        "outputId": "7c2a2153-c84f-4f55-d79f-a1d1eed07b3f"
      },
      "execution_count": 180,
      "outputs": [
        {
          "output_type": "stream",
          "name": "stdout",
          "text": [
            "Comparação de Modelos (ordenado por MAE):\n"
          ]
        },
        {
          "output_type": "display_data",
          "data": {
            "text/plain": [
              "<pandas.io.formats.style.Styler at 0x7da54564d490>"
            ],
            "text/html": [
              "<style type=\"text/css\">\n",
              "#T_5b523_row0_col1, #T_5b523_row3_col2 {\n",
              "  background-color: #440154;\n",
              "  color: #f1f1f1;\n",
              "}\n",
              "#T_5b523_row0_col2, #T_5b523_row3_col1 {\n",
              "  background-color: #fde725;\n",
              "  color: #000000;\n",
              "}\n",
              "#T_5b523_row1_col1 {\n",
              "  background-color: #440256;\n",
              "  color: #f1f1f1;\n",
              "}\n",
              "#T_5b523_row1_col2 {\n",
              "  background-color: #fbe723;\n",
              "  color: #000000;\n",
              "}\n",
              "#T_5b523_row2_col1 {\n",
              "  background-color: #450559;\n",
              "  color: #f1f1f1;\n",
              "}\n",
              "#T_5b523_row2_col2 {\n",
              "  background-color: #f8e621;\n",
              "  color: #000000;\n",
              "}\n",
              "</style>\n",
              "<table id=\"T_5b523\" class=\"dataframe\">\n",
              "  <thead>\n",
              "    <tr>\n",
              "      <th class=\"blank level0\" >&nbsp;</th>\n",
              "      <th id=\"T_5b523_level0_col0\" class=\"col_heading level0 col0\" >Modelo</th>\n",
              "      <th id=\"T_5b523_level0_col1\" class=\"col_heading level0 col1\" >MAE</th>\n",
              "      <th id=\"T_5b523_level0_col2\" class=\"col_heading level0 col2\" >R²</th>\n",
              "    </tr>\n",
              "  </thead>\n",
              "  <tbody>\n",
              "    <tr>\n",
              "      <th id=\"T_5b523_level0_row0\" class=\"row_heading level0 row0\" >0</th>\n",
              "      <td id=\"T_5b523_row0_col0\" class=\"data row0 col0\" >Random Forest</td>\n",
              "      <td id=\"T_5b523_row0_col1\" class=\"data row0 col1\" >0.820009</td>\n",
              "      <td id=\"T_5b523_row0_col2\" class=\"data row0 col2\" >0.661587</td>\n",
              "    </tr>\n",
              "    <tr>\n",
              "      <th id=\"T_5b523_level0_row1\" class=\"row_heading level0 row1\" >1</th>\n",
              "      <td id=\"T_5b523_row1_col0\" class=\"data row1 col0\" >Regressão Linear</td>\n",
              "      <td id=\"T_5b523_row1_col1\" class=\"data row1 col1\" >0.824206</td>\n",
              "      <td id=\"T_5b523_row1_col2\" class=\"data row1 col2\" >0.656617</td>\n",
              "    </tr>\n",
              "    <tr>\n",
              "      <th id=\"T_5b523_level0_row2\" class=\"row_heading level0 row2\" >2</th>\n",
              "      <td id=\"T_5b523_row2_col0\" class=\"data row2 col0\" >XGBoost</td>\n",
              "      <td id=\"T_5b523_row2_col1\" class=\"data row2 col1\" >0.828241</td>\n",
              "      <td id=\"T_5b523_row2_col2\" class=\"data row2 col2\" >0.655223</td>\n",
              "    </tr>\n",
              "    <tr>\n",
              "      <th id=\"T_5b523_level0_row3\" class=\"row_heading level0 row3\" >3</th>\n",
              "      <td id=\"T_5b523_row3_col0\" class=\"data row3 col0\" >Baseline (Média)</td>\n",
              "      <td id=\"T_5b523_row3_col1\" class=\"data row3 col1\" >1.485410</td>\n",
              "      <td id=\"T_5b523_row3_col2\" class=\"data row3 col2\" >-0.000132</td>\n",
              "    </tr>\n",
              "  </tbody>\n",
              "</table>\n"
            ]
          },
          "metadata": {}
        }
      ]
    },
    {
      "cell_type": "markdown",
      "source": [
        "## 6. Interpretação do Melhor Modelo"
      ],
      "metadata": {
        "id": "Ch9Fdo7tY0uy"
      }
    },
    {
      "cell_type": "code",
      "source": [
        "# Agrupando faixas etárias\n",
        "bins = [0, 24, 34, 44, 54, 100]\n",
        "labels = ['<25', '25-34', '35-44', '45-54', '55+']\n",
        "df['faixa_etaria'] = pd.cut(df['age'], bins=bins, labels=labels)\n",
        "\n",
        "# Seleção de features\n",
        "features = ['job_satisfaction_score', 'sleep_hours', 'stress_level', 'faixa_etaria']\n",
        "X = df[features].copy()\n",
        "y = df['actual_productivity_score']\n",
        "\n",
        "X.fillna(X.mean(numeric_only=True), inplace=True)\n",
        "y = y.loc[X.index]\n",
        "\n",
        "# Codificação das categorias (get_dummies)\n",
        "X = pd.get_dummies(X, columns=['faixa_etaria'], drop_first=True)\n",
        "\n",
        "# Divisão treino/teste\n",
        "X_train, X_test, y_train, y_test = train_test_split(\n",
        "    X, y, test_size=0.2, random_state=42\n",
        ")\n",
        "\n",
        "# Normalização\n",
        "scaler = StandardScaler()\n",
        "X_train_scaled = scaler.fit_transform(X_train)\n",
        "X_test_scaled = scaler.transform(X_test)\n",
        "\n",
        "# Treinamento do modelo Random Forest com X após dummies\n",
        "rf = RandomForestRegressor(random_state=42)\n",
        "rf.fit(X_train_scaled, y_train)\n",
        "\n",
        "# Importância das variáveis\n",
        "feature_importance = pd.DataFrame({\n",
        "    'Feature': X.columns,\n",
        "    'Importance': rf.feature_importances_\n",
        "}).sort_values(by='Importance', ascending=True)\n",
        "\n",
        "top_n = min(15, len(feature_importance))\n",
        "feature_importance_top = feature_importance.tail(top_n)\n",
        "\n",
        "# Gráfico de barras horizontal\n",
        "plt.figure(figsize=(12, 8))\n",
        "bars = sns.barplot(x='Importance', y='Feature', data=feature_importance_top, palette='coolwarm')\n",
        "\n",
        "for bar in bars.patches:\n",
        "    width = bar.get_width()\n",
        "    plt.text(width + 0.005, bar.get_y() + bar.get_height() / 2,\n",
        "             f'{width:.3f}', va='center', fontsize=10)\n",
        "\n",
        "plt.title(f'Top {top_n} Importância das Variáveis - Random Forest', fontsize=16, weight='bold')\n",
        "plt.xlabel('Importância', fontsize=12)\n",
        "plt.ylabel('Variável', fontsize=12)\n",
        "plt.grid(axis='x', linestyle='--', alpha=0.7)\n",
        "plt.xlim(0, feature_importance_top['Importance'].max() * 1.1)\n",
        "plt.tight_layout()\n",
        "plt.savefig(\"imgs_temp/melhor_modelo.png\")\n",
        "plt.show()\n"
      ],
      "metadata": {
        "colab": {
          "base_uri": "https://localhost:8080/",
          "height": 807
        },
        "id": "wsrSz0FeY1kJ",
        "outputId": "d31a488c-b42d-44db-ca14-eaba5da7d042"
      },
      "execution_count": 165,
      "outputs": [
        {
          "output_type": "display_data",
          "data": {
            "text/plain": [
              "<Figure size 1200x800 with 1 Axes>"
            ],
            "image/png": "[encoded data removed]"
          },
          "metadata": {}
        }
      ]
    },
    {
      "cell_type": "markdown",
      "source": [
        "## 7. Validação Cruzada"
      ],
      "metadata": {
        "id": "A0xNN4L6axhy"
      }
    },
    {
      "cell_type": "code",
      "source": [
        "cv_scores = cross_val_score(rf, X_train_scaled, y_train, cv=5, scoring='neg_mean_absolute_error')\n",
        "print(f\"MAE Validação Cruzada: {-cv_scores.mean():.2f} (± {cv_scores.std():.2f})\")"
      ],
      "metadata": {
        "colab": {
          "base_uri": "https://localhost:8080/"
        },
        "id": "sWk8mkK8aN5S",
        "outputId": "77646552-ffd9-437d-9936-ee8ff380965c"
      },
      "execution_count": 164,
      "outputs": [
        {
          "output_type": "stream",
          "name": "stdout",
          "text": [
            "MAE Validação Cruzada: 1.57 (± 0.01)\n"
          ]
        }
      ]
    },
    {
      "cell_type": "markdown",
      "source": [
        "## 8. Visualização de Resultados"
      ],
      "metadata": {
        "id": "2pjUBU-TbKlx"
      }
    },
    {
      "cell_type": "code",
      "source": [
        "plt.figure(figsize=(10, 6))\n",
        "plt.scatter(y_test, rf_pred, alpha=0.5)\n",
        "plt.plot([y.min(), y.max()], [y.min(), y.max()], '--r')\n",
        "plt.xlabel('Produtividade Real')\n",
        "plt.ylabel('Produtividade Predita')\n",
        "plt.title('Predições vs Valores Reais');\n",
        "plt.savefig(\"imgs_temp/predicoes_valores_reais.png\")"
      ],
      "metadata": {
        "colab": {
          "base_uri": "https://localhost:8080/",
          "height": 562
        },
        "id": "4z6P1261bJ25",
        "outputId": "b92d9e63-6918-40a9-b4df-5b10e37ed3be"
      },
      "execution_count": 166,
      "outputs": [
        {
          "output_type": "display_data",
          "data": {
            "text/plain": [
              "<Figure size 1000x600 with 1 Axes>"
            ],
            "image/png": "[encoded data removed]"
          },
          "metadata": {}
        }
      ]
    },
    {
      "cell_type": "markdown",
      "source": [
        "## 9. Exportação do Modelo"
      ],
      "metadata": {
        "id": "enb4NJR5bREV"
      }
    },
    {
      "cell_type": "code",
      "source": [
        "# Formata os números com 2 casas decimais\n",
        "mae_baseline_str = f\"{mae_baseline:.2f}\"\n",
        "r2_baseline_str = f\"{r2_baseline:.2f}\"\n",
        "mae_lr_str = f\"{mae_lr:.2f}\"\n",
        "r2_lr_str = f\"{r2_lr:.2f}\"\n",
        "mae_rf_str = f\"{mae_rf:.2f}\"\n",
        "r2_rf_str = f\"{r2_rf:.2f}\"\n",
        "mae_xgb_str = f\"{mae_xgb:.2f}\"\n",
        "r2_xgb_str = f\"{r2_xgb:.2f}\"\n",
        "mae_cv_mean = -cv_scores.mean()\n",
        "mae_cv_std = cv_scores.std()\n",
        "\n",
        "df_head_html = df.head(3).to_html(index=False, classes='tabela')\n",
        "\n",
        "results['MAE'] = results['MAE'].astype(float)\n",
        "results['R²'] = results['R²'].astype(float)\n",
        "\n",
        "# Formata os resultados para exibição no relatório\n",
        "results['MAE'] = results['MAE'].map(lambda x: f\"{x:.2f}\")\n",
        "results['R²'] = results['R²'].map(lambda x: f\"{x:.2f}\")\n",
        "results_sorted = results.sort_values(by='MAE').reset_index(drop=True)\n",
        "\n",
        "# Converte o DataFrame para tabela HTML, com classes para estilização\n",
        "results_html = results_sorted.to_html(index=False, classes='tabela', border=0)\n",
        "\n",
        "html_content = f\"\"\"\n",
        "<html>\n",
        "<head>\n",
        "    <meta charset=\"utf-8\" />\n",
        "    <style>\n",
        "        body {{ font-family: Arial, sans-serif; margin: 2em; color: #222; font-size: 12px; }}\n",
        "        h1 {{ font-size: 16px; color: #333366; }}\n",
        "        h2 {{ font-size: 14px; color: #333366; margin-top: 20px; }}\n",
        "        h3 {{ color: #555555; font-size: 12px; margin-top: 10px; }}\n",
        "        p {{ font-size: 12px; margin-top: 4px; }}\n",
        "        table {{ border-collapse: collapse; width: 100%; margin: 20px 0; font-size: 12px; }}\n",
        "        th {{\n",
        "          background-color: #f2f2f2;\n",
        "          color: #333;\n",
        "          padding: 8px;\n",
        "          border: 1px solid #ddd;\n",
        "          text-align: center;\n",
        "       }}\n",
        "       td {{ padding: 8px; border: 1px solid #ddd; text-align: center; }}\n",
        "       img {{ max-width: 470px; height: auto; margin-top: 10px; }}\n",
        "       ul {{ list-style: none; padding-left: 0; font-size: 12px; }}\n",
        "    </style>\n",
        "</head>\n",
        "<body>\n",
        "  <h1>Relatório de Modelagem e Validação</h1>\n",
        "  <p><strong>Objetivo:</strong> Construir e avaliar modelos preditivos</p>\n",
        "  <p><strong>Dataset:</strong> processed_data.csv  </p>\n",
        "  <p><strong>Autor:</strong> Flávia Souza e Vinicius Loeblein</p>\n",
        "\n",
        "  <h2>1. Introdução</h2>\n",
        "  <p>Este relatório apresenta a modelagem preditiva do dataset processado, com avaliação, comparação e interpretação dos modelos testados.</p>\n",
        "\n",
        "  <h2>2. Visualização Inicial dos Dados</h2>\n",
        "  <h3>2.1 Amostra dos Dados (3 primeiras linhas)</h3>\n",
        "  {df_head_html}\n",
        "\n",
        "  <h2>3. Modelagem</h2>\n",
        "\n",
        "  <h3>3.1 Modelo Baseline (Média)</h3>\n",
        "  <p>O modelo baseline prevê sempre a média dos valores de produtividade observados no conjunto de treino.</p>\n",
        "  <table>\n",
        "      <tr><th>Métrica</th><th>Valor</th></tr>\n",
        "      <tr><td>MAE</td><td>{mae_baseline_str}</td></tr>\n",
        "      <tr><td>R²</td><td>{r2_baseline_str}</td></tr>\n",
        "  </table>\n",
        "\n",
        "  <h3>3.2 Regressão Linear</h3>\n",
        "  <p>A Regressão Linear é um modelo estatístico que tenta ajustar uma relação linear entre as variáveis preditoras e a variável alvo.</p>\n",
        "  <table>\n",
        "      <tr><th>Métrica</th><th>Valor</th></tr>\n",
        "      <tr><td>MAE</td><td>{mae_lr_str}</td></tr>\n",
        "      <tr><td>R²</td><td>{r2_lr_str}</td></tr>\n",
        "  </table>\n",
        "\n",
        "  <h3>3.3 Random Forest</h3>\n",
        "  <p>Random Forest é um modelo de ensemble que combina múltiplas árvores de decisão para melhorar a precisão e evitar overfitting.</p>\n",
        "  <table>\n",
        "      <tr><th>Métrica</th><th>Valor</th></tr>\n",
        "      <tr><td>MAE</td><td>{mae_rf_str}</td></tr>\n",
        "      <tr><td>R²</td><td>{r2_rf_str}</td></tr>\n",
        "  </table>\n",
        "\n",
        "  <h3>3.4 XGBoost</h3>\n",
        "  <p>XGBoost é um algoritmo de boosting eficiente e poderoso que combina múltiplos modelos fracos para criar um forte modelo preditivo.</p>\n",
        "  <table>\n",
        "      <tr><th>Métrica</th><th>Valor</th></tr>\n",
        "      <tr><td>MAE</td><td>{mae_xgb_str}</td></tr>\n",
        "      <tr><td>R²</td><td>{r2_xgb_str}</td></tr>\n",
        "  </table>\n",
        "\n",
        "  <h2>4. Comparação de Modelos</h2>\n",
        "  <p>A tabela abaixo mostra a comparação dos modelos ordenada pelo MAE (menor é melhor):</p>\n",
        "  {results_html}\n",
        "\n",
        "  <h2>5. Interpretação do Melhor Modelo</h2>\n",
        "  <p>O modelo Random Forest foi identificado como o melhor modelo com base nas métricas de avaliação. Para entender melhor o impacto das variáveis na predição, apresentamos abaixo o gráfico das <strong>Top {top_n} variáveis mais importantes</strong> segundo o modelo Random Forest.</p>\n",
        "  <p>Este gráfico mostra quais features mais influenciam a capacidade do modelo em prever a produtividade, indicando os fatores-chave que devem ser priorizados para melhoria ou monitoramento.</p>\n",
        "  <img src=\"imgs_temp/melhor_modelo.png\" alt=\"Melhor Modelo\">\n",
        "\n",
        "  <h2>6. Predições vs Valores Reais</h2>\n",
        "  <p>Este gráfico compara as predições do modelo Random Forest com os valores reais observados no conjunto de teste. Uma boa aproximação das predições aos valores reais indica que o modelo está performando bem na tarefa de previsão da produtividade.</p>\n",
        "  <img src=\"imgs_temp/predicoes_valores_reais.png\" alt=\"Predições vs Valores Reais\" />\n",
        "\n",
        "  <h2>7. Validação Cruzada do Random Forest</h2>\n",
        "  <p>A validação cruzada é uma técnica para avaliar a robustez do modelo, dividindo os dados em múltiplos subsets para treinar e testar repetidamente.</p>\n",
        "  <p>O MAE médio obtido na validação cruzada 5-fold do modelo Random Forest foi:</p>\n",
        "  <table>\n",
        "    <tr><th>Métrica</th><th>Valor</th></tr>\n",
        "    <tr><td>MAE (média ± std)</td><td>{mae_cv_mean:.2f} ± {mae_cv_std:.2f}</td></tr>\n",
        "  </table>\n",
        "</body>\n",
        "</html>\n",
        "\"\"\"\n",
        "\n",
        "# Gerar o PDF\n",
        "HTML(string=html_content, base_url='.').write_pdf(\"rel_modelagem.pdf\")\n",
        "files.download(\"rel_modelagem.pdf\")"
      ],
      "metadata": {
        "colab": {
          "base_uri": "https://localhost:8080/",
          "height": 1000
        },
        "collapsed": true,
        "id": "vjmzGbGabTdv",
        "outputId": "a1867770-d6cb-4e25-976d-782466480b78"
      },
      "execution_count": 167,
      "outputs": [
        {
          "output_type": "stream",
          "name": "stderr",
          "text": [
            "DEBUG:fontTools.ttLib.ttFont:Reading 'maxp' table from disk\n",
            "DEBUG:fontTools.ttLib.ttFont:Decompiling 'maxp' table\n",
            "DEBUG:fontTools.subset.timer:Took 0.003s to load 'maxp'\n",
            "DEBUG:fontTools.subset.timer:Took 0.000s to prune 'maxp'\n",
            "INFO:fontTools.subset:maxp pruned\n",
            "DEBUG:fontTools.ttLib.ttFont:Reading 'cmap' table from disk\n",
            "DEBUG:fontTools.ttLib.ttFont:Decompiling 'cmap' table\n",
            "DEBUG:fontTools.ttLib.ttFont:Reading 'post' table from disk\n",
            "DEBUG:fontTools.ttLib.ttFont:Decompiling 'post' table\n",
            "DEBUG:fontTools.subset.timer:Took 0.012s to load 'cmap'\n",
            "DEBUG:fontTools.subset.timer:Took 0.000s to prune 'cmap'\n",
            "INFO:fontTools.subset:cmap pruned\n",
            "INFO:fontTools.subset:fpgm dropped\n",
            "INFO:fontTools.subset:prep dropped\n",
            "INFO:fontTools.subset:cvt  dropped\n",
            "INFO:fontTools.subset:kern dropped\n",
            "DEBUG:fontTools.subset.timer:Took 0.000s to load 'post'\n",
            "DEBUG:fontTools.subset.timer:Took 0.000s to prune 'post'\n",
            "INFO:fontTools.subset:post pruned\n",
            "INFO:fontTools.subset:GPOS dropped\n",
            "INFO:fontTools.subset:GSUB dropped\n",
            "DEBUG:fontTools.ttLib.ttFont:Reading 'glyf' table from disk\n",
            "DEBUG:fontTools.ttLib.ttFont:Decompiling 'glyf' table\n",
            "DEBUG:fontTools.ttLib.ttFont:Reading 'loca' table from disk\n",
            "DEBUG:fontTools.ttLib.ttFont:Decompiling 'loca' table\n",
            "DEBUG:fontTools.ttLib.ttFont:Reading 'head' table from disk\n",
            "DEBUG:fontTools.ttLib.ttFont:Decompiling 'head' table\n",
            "DEBUG:fontTools.subset.timer:Took 0.007s to load 'glyf'\n",
            "DEBUG:fontTools.subset.timer:Took 0.000s to prune 'glyf'\n",
            "INFO:fontTools.subset:glyf pruned\n",
            "DEBUG:fontTools.subset.timer:Took 0.000s to close glyph list over 'cmap'\n",
            "INFO:fontTools.subset:Added gid0 to subset\n",
            "INFO:fontTools.subset:Closing glyph list over 'glyf': 62 glyphs before\n",
            "INFO:fontTools.subset:Glyph names: ['.notdef', 'A', 'B', 'C', 'D', 'E', 'F', 'G', 'I', 'L', 'M', 'O', 'P', 'R', 'T', 'V', 'X', 'a', 'aacute', 'atilde', 'b', 'c', 'ccedilla', 'colon', 'd', 'e', 'eacute', 'f', 'five', 'four', 'g', 'h', 'i', 'j', 'k', 'l', 'm', 'n', 'o', 'oacute', 'one', 'otilde', 'p', 'parenleft', 'parenright', 'period', 'r', 's', 'seven', 'six', 't', 'three', 'two', 'u', 'underscore', 'uni00A0', 'uni00B2', 'v', 'w', 'x', 'y', 'z']\n",
            "INFO:fontTools.subset:Glyph IDs:   [0, 3, 11, 12, 17, 20, 21, 22, 23, 24, 25, 26, 29, 36, 37, 38, 39, 40, 41, 42, 44, 47, 48, 50, 51, 53, 55, 57, 59, 66, 68, 69, 70, 71, 72, 73, 74, 75, 76, 77, 78, 79, 80, 81, 82, 83, 85, 86, 87, 88, 89, 90, 91, 92, 93, 114, 161, 163, 167, 169, 179, 181]\n",
            "INFO:fontTools.subset:Closed glyph list over 'glyf': 65 glyphs after\n",
            "INFO:fontTools.subset:Glyph names: ['.notdef', 'A', 'B', 'C', 'D', 'E', 'F', 'G', 'I', 'L', 'M', 'O', 'P', 'R', 'T', 'V', 'X', 'a', 'aacute', 'acute', 'atilde', 'b', 'c', 'ccedilla', 'cedilla', 'colon', 'd', 'e', 'eacute', 'f', 'five', 'four', 'g', 'h', 'i', 'j', 'k', 'l', 'm', 'n', 'o', 'oacute', 'one', 'otilde', 'p', 'parenleft', 'parenright', 'period', 'r', 's', 'seven', 'six', 't', 'three', 'tilde', 'two', 'u', 'underscore', 'uni00A0', 'uni00B2', 'v', 'w', 'x', 'y', 'z']\n",
            "INFO:fontTools.subset:Glyph IDs:   [0, 3, 11, 12, 17, 20, 21, 22, 23, 24, 25, 26, 29, 36, 37, 38, 39, 40, 41, 42, 44, 47, 48, 50, 51, 53, 55, 57, 59, 66, 68, 69, 70, 71, 72, 73, 74, 75, 76, 77, 78, 79, 80, 81, 82, 83, 85, 86, 87, 88, 89, 90, 91, 92, 93, 114, 116, 120, 161, 163, 167, 169, 179, 181, 338]\n",
            "DEBUG:fontTools.subset.timer:Took 0.005s to close glyph list over 'glyf'\n",
            "INFO:fontTools.subset:Retaining 65 glyphs\n",
            "INFO:fontTools.subset:head subsetting not needed\n",
            "INFO:fontTools.subset:hhea subsetting not needed\n",
            "INFO:fontTools.subset:maxp subsetting not needed\n",
            "INFO:fontTools.subset:OS/2 subsetting not needed\n",
            "DEBUG:fontTools.ttLib.ttFont:Reading 'hmtx' table from disk\n",
            "DEBUG:fontTools.ttLib.ttFont:Decompiling 'hmtx' table\n",
            "DEBUG:fontTools.ttLib.ttFont:Reading 'hhea' table from disk\n",
            "DEBUG:fontTools.ttLib.ttFont:Decompiling 'hhea' table\n",
            "DEBUG:fontTools.subset.timer:Took 0.004s to subset 'hmtx'\n",
            "INFO:fontTools.subset:hmtx subsetted\n",
            "DEBUG:fontTools.subset.timer:Took 0.000s to subset 'cmap'\n",
            "INFO:fontTools.subset:cmap subsetted\n",
            "INFO:fontTools.subset:loca subsetting not needed\n",
            "DEBUG:fontTools.subset.timer:Took 0.000s to subset 'post'\n",
            "INFO:fontTools.subset:post subsetted\n",
            "INFO:fontTools.subset:gasp subsetting not needed\n",
            "INFO:fontTools.subset:FFTM NOT subset; don't know how to subset\n",
            "DEBUG:fontTools.ttLib.ttFont:Reading 'GDEF' table from disk\n",
            "DEBUG:fontTools.ttLib.ttFont:Decompiling 'GDEF' table\n",
            "DEBUG:fontTools.subset.timer:Took 0.002s to subset 'GDEF'\n",
            "INFO:fontTools.subset:GDEF subsetted\n",
            "INFO:fontTools.subset:name subsetting not needed\n",
            "DEBUG:fontTools.subset.timer:Took 0.000s to subset 'glyf'\n",
            "INFO:fontTools.subset:glyf subsetted\n",
            "DEBUG:fontTools.subset.timer:Took 0.000s to subset GlyphOrder\n",
            "DEBUG:fontTools.subset.timer:Took 0.000s to prune 'head'\n",
            "INFO:fontTools.subset:head pruned\n",
            "DEBUG:fontTools.ttLib.ttFont:Reading 'OS/2' table from disk\n",
            "DEBUG:fontTools.ttLib.ttFont:Decompiling 'OS/2' table\n",
            "INFO:fontTools.subset:OS/2 Unicode ranges pruned: [0, 1]\n",
            "INFO:fontTools.subset:OS/2 CodePage ranges pruned: [0]\n",
            "DEBUG:fontTools.subset.timer:Took 0.001s to prune 'glyf'\n",
            "INFO:fontTools.subset:glyf pruned\n",
            "DEBUG:fontTools.subset.timer:Took 0.000s to prune 'GDEF'\n",
            "INFO:fontTools.subset:GDEF pruned\n",
            "DEBUG:fontTools.ttLib.ttFont:Reading 'name' table from disk\n",
            "DEBUG:fontTools.ttLib.ttFont:Decompiling 'name' table\n",
            "DEBUG:fontTools.ttLib.ttFont:Reading 'gasp' table from disk\n",
            "DEBUG:fontTools.ttLib.ttFont:Decompiling 'gasp' table\n",
            "DEBUG:fontTools.ttLib.ttFont:Reading 'FFTM' table from disk\n",
            "DEBUG:fontTools.ttLib.ttFont:Decompiling 'FFTM' table\n",
            "DEBUG:fontTools.subset.timer:Took 0.004s to prune 'name'\n",
            "INFO:fontTools.subset:name pruned\n",
            "DEBUG:fontTools.ttLib.ttFont:Reading 'maxp' table from disk\n",
            "DEBUG:fontTools.ttLib.ttFont:Decompiling 'maxp' table\n",
            "DEBUG:fontTools.subset.timer:Took 0.003s to load 'maxp'\n",
            "DEBUG:fontTools.subset.timer:Took 0.000s to prune 'maxp'\n",
            "INFO:fontTools.subset:maxp pruned\n",
            "DEBUG:fontTools.ttLib.ttFont:Reading 'cmap' table from disk\n",
            "DEBUG:fontTools.ttLib.ttFont:Decompiling 'cmap' table\n",
            "DEBUG:fontTools.ttLib.ttFont:Reading 'post' table from disk\n",
            "DEBUG:fontTools.ttLib.ttFont:Decompiling 'post' table\n",
            "DEBUG:fontTools.subset.timer:Took 0.004s to load 'cmap'\n",
            "DEBUG:fontTools.subset.timer:Took 0.000s to prune 'cmap'\n",
            "INFO:fontTools.subset:cmap pruned\n",
            "INFO:fontTools.subset:fpgm dropped\n",
            "INFO:fontTools.subset:prep dropped\n",
            "INFO:fontTools.subset:cvt  dropped\n",
            "INFO:fontTools.subset:kern dropped\n",
            "DEBUG:fontTools.subset.timer:Took 0.000s to load 'post'\n",
            "DEBUG:fontTools.subset.timer:Took 0.000s to prune 'post'\n",
            "INFO:fontTools.subset:post pruned\n",
            "INFO:fontTools.subset:GPOS dropped\n",
            "INFO:fontTools.subset:GSUB dropped\n",
            "DEBUG:fontTools.ttLib.ttFont:Reading 'glyf' table from disk\n",
            "DEBUG:fontTools.ttLib.ttFont:Decompiling 'glyf' table\n",
            "DEBUG:fontTools.ttLib.ttFont:Reading 'loca' table from disk\n",
            "DEBUG:fontTools.ttLib.ttFont:Decompiling 'loca' table\n",
            "DEBUG:fontTools.ttLib.ttFont:Reading 'head' table from disk\n",
            "DEBUG:fontTools.ttLib.ttFont:Decompiling 'head' table\n",
            "DEBUG:fontTools.subset.timer:Took 0.007s to load 'glyf'\n",
            "DEBUG:fontTools.subset.timer:Took 0.000s to prune 'glyf'\n",
            "INFO:fontTools.subset:glyf pruned\n",
            "DEBUG:fontTools.subset.timer:Took 0.000s to close glyph list over 'cmap'\n",
            "INFO:fontTools.subset:Added gid0 to subset\n",
            "INFO:fontTools.subset:Closing glyph list over 'glyf': 74 glyphs before\n",
            "INFO:fontTools.subset:Glyph names: ['.notdef', 'A', 'B', 'C', 'E', 'F', 'G', 'H', 'L', 'M', 'O', 'P', 'R', 'S', 'T', 'U', 'V', 'X', 'a', 'aacute', 'atilde', 'b', 'c', 'ccedilla', 'colon', 'comma', 'd', 'e', 'eacute', 'ecircumflex', 'eight', 'f', 'five', 'four', 'g', 'h', 'i', 'iacute', 'j', 'k', 'l', 'm', 'n', 'nine', 'o', 'oacute', 'one', 'otilde', 'p', 'parenleft', 'parenright', 'period', 'plus', 'plusminus', 'q', 'r', 's', 'seven', 'six', 't', 'three', 'two', 'u', 'uacute', 'underscore', 'uni00A0', 'uni00AD', 'uni00B2', 'v', 'w', 'x', 'y', 'z', 'zero']\n",
            "INFO:fontTools.subset:Glyph IDs:   [0, 3, 11, 12, 14, 15, 16, 17, 19, 20, 21, 22, 23, 24, 25, 26, 27, 28, 29, 36, 37, 38, 40, 41, 42, 43, 47, 48, 50, 51, 53, 54, 55, 56, 57, 59, 66, 68, 69, 70, 71, 72, 73, 74, 75, 76, 77, 78, 79, 80, 81, 82, 83, 84, 85, 86, 87, 88, 89, 90, 91, 92, 93, 113, 114, 161, 163, 167, 169, 170, 173, 179, 181, 186]\n",
            "INFO:fontTools.subset:Closed glyph list over 'glyf': 79 glyphs after\n",
            "INFO:fontTools.subset:Glyph names: ['.notdef', 'A', 'B', 'C', 'E', 'F', 'G', 'H', 'L', 'M', 'O', 'P', 'R', 'S', 'T', 'U', 'V', 'X', 'a', 'aacute', 'acute', 'atilde', 'b', 'c', 'ccedilla', 'cedilla', 'circumflex', 'colon', 'comma', 'd', 'dotlessi', 'e', 'eacute', 'ecircumflex', 'eight', 'f', 'five', 'four', 'g', 'h', 'i', 'iacute', 'j', 'k', 'l', 'm', 'n', 'nine', 'o', 'oacute', 'one', 'otilde', 'p', 'parenleft', 'parenright', 'period', 'plus', 'plusminus', 'q', 'r', 's', 'seven', 'six', 't', 'three', 'tilde', 'two', 'u', 'uacute', 'underscore', 'uni00A0', 'uni00AD', 'uni00B2', 'v', 'w', 'x', 'y', 'z', 'zero']\n",
            "INFO:fontTools.subset:Glyph IDs:   [0, 3, 11, 12, 14, 15, 16, 17, 19, 20, 21, 22, 23, 24, 25, 26, 27, 28, 29, 36, 37, 38, 40, 41, 42, 43, 47, 48, 50, 51, 53, 54, 55, 56, 57, 59, 66, 68, 69, 70, 71, 72, 73, 74, 75, 76, 77, 78, 79, 80, 81, 82, 83, 84, 85, 86, 87, 88, 89, 90, 91, 92, 93, 113, 114, 116, 120, 161, 163, 167, 169, 170, 173, 179, 181, 186, 241, 331, 338]\n",
            "DEBUG:fontTools.subset.timer:Took 0.005s to close glyph list over 'glyf'\n",
            "INFO:fontTools.subset:Retaining 79 glyphs\n",
            "INFO:fontTools.subset:head subsetting not needed\n",
            "INFO:fontTools.subset:hhea subsetting not needed\n",
            "INFO:fontTools.subset:maxp subsetting not needed\n",
            "INFO:fontTools.subset:OS/2 subsetting not needed\n",
            "DEBUG:fontTools.ttLib.ttFont:Reading 'hmtx' table from disk\n",
            "DEBUG:fontTools.ttLib.ttFont:Decompiling 'hmtx' table\n",
            "DEBUG:fontTools.ttLib.ttFont:Reading 'hhea' table from disk\n",
            "DEBUG:fontTools.ttLib.ttFont:Decompiling 'hhea' table\n",
            "DEBUG:fontTools.subset.timer:Took 0.003s to subset 'hmtx'\n",
            "INFO:fontTools.subset:hmtx subsetted\n",
            "DEBUG:fontTools.subset.timer:Took 0.000s to subset 'cmap'\n",
            "INFO:fontTools.subset:cmap subsetted\n",
            "INFO:fontTools.subset:loca subsetting not needed\n",
            "DEBUG:fontTools.subset.timer:Took 0.000s to subset 'post'\n",
            "INFO:fontTools.subset:post subsetted\n",
            "INFO:fontTools.subset:gasp subsetting not needed\n",
            "INFO:fontTools.subset:FFTM NOT subset; don't know how to subset\n",
            "DEBUG:fontTools.ttLib.ttFont:Reading 'GDEF' table from disk\n",
            "DEBUG:fontTools.ttLib.ttFont:Decompiling 'GDEF' table\n",
            "DEBUG:fontTools.subset.timer:Took 0.002s to subset 'GDEF'\n",
            "INFO:fontTools.subset:GDEF subsetted\n",
            "INFO:fontTools.subset:name subsetting not needed\n",
            "DEBUG:fontTools.subset.timer:Took 0.000s to subset 'glyf'\n",
            "INFO:fontTools.subset:glyf subsetted\n",
            "DEBUG:fontTools.subset.timer:Took 0.000s to subset GlyphOrder\n",
            "DEBUG:fontTools.subset.timer:Took 0.000s to prune 'head'\n",
            "INFO:fontTools.subset:head pruned\n",
            "DEBUG:fontTools.ttLib.ttFont:Reading 'OS/2' table from disk\n",
            "DEBUG:fontTools.ttLib.ttFont:Decompiling 'OS/2' table\n",
            "INFO:fontTools.subset:OS/2 Unicode ranges pruned: [0, 1]\n",
            "INFO:fontTools.subset:OS/2 CodePage ranges pruned: [0]\n",
            "DEBUG:fontTools.subset.timer:Took 0.001s to prune 'glyf'\n",
            "INFO:fontTools.subset:glyf pruned\n",
            "DEBUG:fontTools.subset.timer:Took 0.000s to prune 'GDEF'\n",
            "INFO:fontTools.subset:GDEF pruned\n",
            "DEBUG:fontTools.ttLib.ttFont:Reading 'name' table from disk\n",
            "DEBUG:fontTools.ttLib.ttFont:Decompiling 'name' table\n",
            "DEBUG:fontTools.ttLib.ttFont:Reading 'gasp' table from disk\n",
            "DEBUG:fontTools.ttLib.ttFont:Decompiling 'gasp' table\n",
            "DEBUG:fontTools.ttLib.ttFont:Reading 'FFTM' table from disk\n",
            "DEBUG:fontTools.ttLib.ttFont:Decompiling 'FFTM' table\n",
            "DEBUG:fontTools.subset.timer:Took 0.004s to prune 'name'\n",
            "INFO:fontTools.subset:name pruned\n"
          ]
        },
        {
          "output_type": "display_data",
          "data": {
            "text/plain": [
              "<IPython.core.display.Javascript object>"
            ],
            "application/javascript": [
              "\n",
              "    async function download(id, filename, size) {\n",
              "      if (!google.colab.kernel.accessAllowed) {\n",
              "        return;\n",
              "      }\n",
              "      const div = document.createElement('div');\n",
              "      const label = document.createElement('label');\n",
              "      label.textContent = `Downloading \"${filename}\": `;\n",
              "      div.appendChild(label);\n",
              "      const progress = document.createElement('progress');\n",
              "      progress.max = size;\n",
              "      div.appendChild(progress);\n",
              "      document.body.appendChild(div);\n",
              "\n",
              "      const buffers = [];\n",
              "      let downloaded = 0;\n",
              "\n",
              "      const channel = await google.colab.kernel.comms.open(id);\n",
              "      // Send a message to notify the kernel that we're ready.\n",
              "      channel.send({})\n",
              "\n",
              "      for await (const message of channel.messages) {\n",
              "        // Send a message to notify the kernel that we're ready.\n",
              "        channel.send({})\n",
              "        if (message.buffers) {\n",
              "          for (const buffer of message.buffers) {\n",
              "            buffers.push(buffer);\n",
              "            downloaded += buffer.byteLength;\n",
              "            progress.value = downloaded;\n",
              "          }\n",
              "        }\n",
              "      }\n",
              "      const blob = new Blob(buffers, {type: 'application/binary'});\n",
              "      const a = document.createElement('a');\n",
              "      a.href = window.URL.createObjectURL(blob);\n",
              "      a.download = filename;\n",
              "      div.appendChild(a);\n",
              "      a.click();\n",
              "      div.remove();\n",
              "    }\n",
              "  "
            ]
          },
          "metadata": {}
        },
        {
          "output_type": "display_data",
          "data": {
            "text/plain": [
              "<IPython.core.display.Javascript object>"
            ],
            "application/javascript": [
              "download(\"download_165d8d34-ff0b-44dd-b6d3-aad1e9e3cb65\", \"rel_modelagem.pdf\", 162147)"
            ]
          },
          "metadata": {}
        }
      ]
    }
  ]
}