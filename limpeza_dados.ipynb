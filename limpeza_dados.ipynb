{
  "nbformat": 4,
  "nbformat_minor": 0,
  "metadata": {
    "colab": {
      "provenance": [],
      "authorship_tag": "ABX9TyNm5p2M9ZOC8xq0e6Ichhc6",
      "include_colab_link": true
    },
    "kernelspec": {
      "name": "python3",
      "display_name": "Python 3"
    },
    "language_info": {
      "name": "python"
    }
  },
  "cells": [
    {
      "cell_type": "markdown",
      "metadata": {
        "id": "view-in-github",
        "colab_type": "text"
      },
      "source": [
        "<a href=\"https://colab.research.google.com/github/Flaviasoz/social-media-productivity/blob/main/limpeza_dados.ipynb\" target=\"_parent\"><img src=\"https://colab.research.google.com/assets/colab-badge.svg\" alt=\"Open In Colab\"/></a>"
      ]
    },
    {
      "cell_type": "markdown",
      "source": [
        "# Notebook 1: Limpeza e Pré-processamento de Dados"
      ],
      "metadata": {
        "id": "87L2m6R5O0An"
      }
    },
    {
      "cell_type": "markdown",
      "source": [
        "**Objetivo**: Preparar os dados brutos para análise  \n",
        "**Dataset**: social_media_productivity.csv  \n",
        "**Autor**: Flávia Souza e Vinicius Loeblein"
      ],
      "metadata": {
        "id": "QUrHQeLDO6bx"
      }
    },
    {
      "cell_type": "markdown",
      "source": [
        "## 1. Configuração Inicial"
      ],
      "metadata": {
        "id": "uIoDRWatPOQo"
      }
    },
    {
      "cell_type": "code",
      "execution_count": null,
      "metadata": {
        "id": "biVk1QozN1Ak"
      },
      "outputs": [],
      "source": [
        "import pandas as pd\n",
        "import numpy as np\n",
        "import matplotlib.pyplot as plt\n",
        "import seaborn as sns\n",
        "\n",
        "# Configurações de visualização\n",
        "plt.style.use('ggplot')\n",
        "pd.set_option('display.max_columns', 50)\n",
        "%matplotlib inline"
      ]
    },
    {
      "cell_type": "markdown",
      "source": [
        "## 2. Carregamento dos Dados"
      ],
      "metadata": {
        "id": "U5nXrip8PZla"
      }
    }
  ]
}